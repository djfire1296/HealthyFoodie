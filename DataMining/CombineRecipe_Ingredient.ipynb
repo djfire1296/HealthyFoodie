{
 "cells": [
  {
   "cell_type": "markdown",
   "metadata": {},
   "source": [
    "<h1> Libraries </h1>"
   ]
  },
  {
   "cell_type": "code",
   "execution_count": 1,
   "metadata": {
    "collapsed": true
   },
   "outputs": [],
   "source": [
    "# basic libraries\n",
    "import time\n",
    "import numpy as np"
   ]
  },
  {
   "cell_type": "code",
   "execution_count": 2,
   "metadata": {
    "collapsed": true
   },
   "outputs": [],
   "source": [
    "from pyspark import SparkContext\n",
    "sc = SparkContext('local[*]', 'Recipe')"
   ]
  },
  {
   "cell_type": "code",
   "execution_count": 3,
   "metadata": {
    "collapsed": true
   },
   "outputs": [],
   "source": [
    "# spark sql related\n",
    "from pyspark.sql import DataFrameWriter, SQLContext, Row\n",
    "from pyspark.sql.types import *\n",
    "\n",
    "sqlContext = SQLContext(sc)\n",
    "sql = sqlContext.sql"
   ]
  },
  {
   "cell_type": "code",
   "execution_count": 4,
   "metadata": {
    "collapsed": true
   },
   "outputs": [],
   "source": [
    "add = lambda x, y: x+y\n",
    "conv2string = lambda s: s.encode(\"UTF-8\") if isinstance(s, unicode) else s"
   ]
  },
  {
   "cell_type": "code",
   "execution_count": null,
   "metadata": {
    "collapsed": true
   },
   "outputs": [],
   "source": []
  },
  {
   "cell_type": "markdown",
   "metadata": {},
   "source": [
    "<h1> Get Ingredient Data </h1>"
   ]
  },
  {
   "cell_type": "code",
   "execution_count": 5,
   "metadata": {
    "collapsed": true
   },
   "outputs": [],
   "source": [
    "ingredient_txt = sc.textFile('ingre7.csv').map(lambda t: t.split(','))"
   ]
  },
  {
   "cell_type": "code",
   "execution_count": 6,
   "metadata": {},
   "outputs": [
    {
     "name": "stdout",
     "output_type": "stream",
     "text": [
      "[u'id', u'ing_name', u'prot.ing.g.', u'fat.ing.g.', u'total_cab.ing.g.', u'modified_cal.ing.kcal.']\n"
     ]
    }
   ],
   "source": [
    "# get ingredient csv header\n",
    "ingredient_header = ingredient_txt.first()\n",
    "print ingredient_header"
   ]
  },
  {
   "cell_type": "code",
   "execution_count": 7,
   "metadata": {
    "collapsed": true
   },
   "outputs": [],
   "source": [
    "ingredient_txt = ingredient_txt.filter(lambda t: t != ingredient_header)"
   ]
  },
  {
   "cell_type": "code",
   "execution_count": 8,
   "metadata": {},
   "outputs": [
    {
     "name": "stdout",
     "output_type": "stream",
     "text": [
      "total 7404 data with 4449 distinct ingredient\n"
     ]
    }
   ],
   "source": [
    "ingredient_txt_num = ingredient_txt.count()\n",
    "ingredient_cnt = ingredient_txt.map(lambda t: t[1]).distinct().count()\n",
    "print \"total {} data with {} distinct ingredient\".format(ingredient_txt_num, ingredient_cnt)"
   ]
  },
  {
   "cell_type": "code",
   "execution_count": 9,
   "metadata": {
    "scrolled": true
   },
   "outputs": [
    {
     "name": "stdout",
     "output_type": "stream",
     "text": [
      "Checked\n"
     ]
    }
   ],
   "source": [
    "# to avoid error from split txt\n",
    "print \"Checked\" if ingredient_txt.filter(lambda t: len(t) != 6).count() == 0 else \"Error\""
   ]
  },
  {
   "cell_type": "code",
   "execution_count": 10,
   "metadata": {},
   "outputs": [],
   "source": [
    "# Usage: Transfer 4 nutrition 2 np.array\n",
    "def tran2np(t):\n",
    "    return np.array([round(float(t[2]), 5) if t[2] != 'NA' else 0, \n",
    "                     round(float(t[3]), 5) if t[3] != 'NA' else 0, \n",
    "                     round(float(t[4]), 5) if t[4] != 'NA' else 0, \n",
    "                     round(float(t[5]), 5) if t[5] != 'NA' else 0, \n",
    "                     1])\n",
    "\n",
    "# calculate average weight of each nutrition and total cal of each ingredient\n",
    "ingredient_cal = ingredient_txt \\\n",
    "                    .map(lambda t: (t[1], tran2np(t))) \\\n",
    "                    .reduceByKey(add) \\\n",
    "                    .map(lambda (x, y): (x, np.round(y[:-1] / y[-1], 3))).collectAsMap()"
   ]
  },
  {
   "cell_type": "code",
   "execution_count": 11,
   "metadata": {},
   "outputs": [
    {
     "name": "stdout",
     "output_type": "stream",
     "text": [
      "皇帝魚:\n",
      "17.3000, 6.1500, 0.1500, 129.3440\n",
      "貓竹:\n",
      "3.9580, 0.1500, 7.3010, 36.0400\n",
      "支骨湯:\n",
      "0.6930, 0.6400, 0.0000, 8.7320\n"
     ]
    }
   ],
   "source": [
    "# show top 3 ingredient, protein, fat, cabon, total cal\n",
    "for x in ingredient_cal.keys()[:3]:\n",
    "    ingc = ingredient_cal[x]\n",
    "    print \"{:>4}:\".format(conv2string(x))\n",
    "    print \"{:>3.4f}, {:>3.4f}, {:>3.4f}, {:>3.4f}\".format(ingc[0], ingc[1], ingc[2], ingc[3])"
   ]
  },
  {
   "cell_type": "code",
   "execution_count": null,
   "metadata": {
    "collapsed": true
   },
   "outputs": [],
   "source": []
  },
  {
   "cell_type": "markdown",
   "metadata": {},
   "source": [
    "<h1> Get Recipe Data </h1>"
   ]
  },
  {
   "cell_type": "code",
   "execution_count": 12,
   "metadata": {
    "collapsed": true
   },
   "outputs": [],
   "source": [
    "recipe_txt = sc.textFile('recipe.csv').map(lambda t: t.replace('\\\"', \"\")).map(lambda t: t.split(','))"
   ]
  },
  {
   "cell_type": "code",
   "execution_count": 13,
   "metadata": {},
   "outputs": [
    {
     "name": "stdout",
     "output_type": "stream",
     "text": [
      "[u'recipe_name', u'filter', u'category', u'cook', u'ing', u'img', u'link', u'note']\n"
     ]
    }
   ],
   "source": [
    "# get recipe csv header\n",
    "recipe_header = recipe_txt.first()\n",
    "print recipe_header"
   ]
  },
  {
   "cell_type": "code",
   "execution_count": 14,
   "metadata": {
    "collapsed": true
   },
   "outputs": [],
   "source": [
    "recipe_txt = recipe_txt.filter(lambda t: t != recipe_header)"
   ]
  },
  {
   "cell_type": "code",
   "execution_count": 15,
   "metadata": {},
   "outputs": [
    {
     "name": "stdout",
     "output_type": "stream",
     "text": [
      "Checked\n"
     ]
    }
   ],
   "source": [
    "# to avoid error from split txt\n",
    "print \"Checked\" if recipe_txt.filter(lambda t: len(t) != 8).count() == 0 else \"Error\""
   ]
  },
  {
   "cell_type": "code",
   "execution_count": 16,
   "metadata": {
    "scrolled": true
   },
   "outputs": [
    {
     "name": "stdout",
     "output_type": "stream",
     "text": [
      "煎蛋捲\n",
      "腎臟病\n",
      "早餐\n",
      "煎\n",
      "蛋:2 個=100|水:2 湯匙=30|黃油:2 湯匙=30|肉:0.5 罐=50\n",
      "https://www.nwkidney.org/wp-content/uploads/2014/07/40-Second-Omelet.jpg\n",
      "https://www.nwkidney.org/recipe/40-second-omlette/\n",
      "\n"
     ]
    }
   ],
   "source": [
    "# first example\n",
    "testre = recipe_txt.first()\n",
    "for x in testre:\n",
    "    print x"
   ]
  },
  {
   "cell_type": "code",
   "execution_count": 17,
   "metadata": {},
   "outputs": [],
   "source": [
    "# Usage: Calculate total nutrition of each recipe\n",
    "def cal_cal(re):\n",
    "    ings = re[4]\n",
    "    cal = np.array([0.0]*4)\n",
    "    for ing in ings.split('|'):\n",
    "        ingl = ing.split(':')\n",
    "        \n",
    "        if \"=\" in ingl[1]:\n",
    "            nl = ingl[1].split('=')\n",
    "            # ul = nl[0].split(' ')\n",
    "            \n",
    "            if ingl[0] in ingredient_cal.keys():\n",
    "                cal += ingredient_cal[ingl[0]] * float(nl[1]) / 100\n",
    "        \n",
    "        else:\n",
    "            if '少許' not in conv2string(ingl[1]) and '適量' not in conv2string(ingl[1]):\n",
    "                ul = ingl[1].split(' ')\n",
    "                if ul[1] == 'g':\n",
    "                    if ingl[0] in ingredient_cal.keys():\n",
    "                        cal += ingredient_cal[ingl[0]] * float(ul[0]) / 100.0\n",
    "            else:\n",
    "                continue\n",
    "    return re + cal.tolist()"
   ]
  },
  {
   "cell_type": "code",
   "execution_count": 18,
   "metadata": {},
   "outputs": [],
   "source": [
    "sr_txt = recipe_txt.map(cal_cal)"
   ]
  },
  {
   "cell_type": "code",
   "execution_count": 19,
   "metadata": {},
   "outputs": [
    {
     "name": "stdout",
     "output_type": "stream",
     "text": [
      "煎蛋捲\n",
      "腎臟病\n",
      "早餐\n",
      "煎\n",
      "蛋:2 個=100|水:2 湯匙=30|黃油:2 湯匙=30|肉:0.5 罐=50\n",
      "https://www.nwkidney.org/wp-content/uploads/2014/07/40-Second-Omelet.jpg\n",
      "https://www.nwkidney.org/recipe/40-second-omlette/\n",
      "\n",
      "23.1267\n",
      "36.3686\n",
      "2.3109\n",
      "425.0703\n"
     ]
    }
   ],
   "source": [
    "# first example after calculate cal, protein, fat, cabon, total cal\n",
    "for x in sr_txt.first():\n",
    "    print x"
   ]
  },
  {
   "cell_type": "code",
   "execution_count": null,
   "metadata": {
    "collapsed": true
   },
   "outputs": [],
   "source": []
  },
  {
   "cell_type": "markdown",
   "metadata": {},
   "source": [
    "<h1> Write Total Recipe File </h1>"
   ]
  },
  {
   "cell_type": "code",
   "execution_count": 20,
   "metadata": {
    "collapsed": true
   },
   "outputs": [],
   "source": [
    "srctotal_txt = sr_txt.collect()"
   ]
  },
  {
   "cell_type": "code",
   "execution_count": 21,
   "metadata": {},
   "outputs": [],
   "source": [
    "# write combination to recipe_cal.csv\n",
    "with open(\"recipe_cal.csv\", \"wb\") as opf:\n",
    "    for i, rc in enumerate(srctotal_txt):\n",
    "        opf.write('{},{},{},{},{},{},{},{},{},{},{},{},{}\\n' \\\n",
    "                  .format(str(i+1), conv2string(rc[0]), conv2string(rc[1]), conv2string(rc[2]), conv2string(rc[3]), \\\n",
    "                         conv2string(rc[4]), conv2string(rc[5]), conv2string(rc[6]), conv2string(rc[7]), \\\n",
    "                          rc[8], rc[9], rc[10], rc[11]))"
   ]
  },
  {
   "cell_type": "code",
   "execution_count": null,
   "metadata": {
    "collapsed": true
   },
   "outputs": [],
   "source": []
  }
 ],
 "metadata": {
  "kernelspec": {
   "display_name": "Python 2",
   "language": "python",
   "name": "python2"
  },
  "language_info": {
   "codemirror_mode": {
    "name": "ipython",
    "version": 2
   },
   "file_extension": ".py",
   "mimetype": "text/x-python",
   "name": "python",
   "nbconvert_exporter": "python",
   "pygments_lexer": "ipython2",
   "version": "2.7.13"
  }
 },
 "nbformat": 4,
 "nbformat_minor": 2
}
